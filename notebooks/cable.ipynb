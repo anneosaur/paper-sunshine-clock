{
 "cells": [
  {
   "cell_type": "code",
   "id": "initial_id",
   "metadata": {
    "collapsed": true,
    "is_executing": true,
    "ExecuteTime": {
     "end_time": "2024-09-13T01:19:27.907655Z",
     "start_time": "2024-09-13T01:19:27.890196Z"
    }
   },
   "source": "import drawsvg as draw",
   "outputs": [],
   "execution_count": 1
  },
  {
   "cell_type": "code",
   "source": [
    "class Connector:\n",
    "    padding = 0.6\n",
    "    spacing = 0.3\n",
    "    count = 10\n",
    "    pad_height = 2.7\n",
    "    pad_width = 0.7\n",
    "\n",
    "class Cable:\n",
    "    length = 19\n",
    "    width = (\n",
    "        (Connector.pad_width * Connector.count)\n",
    "        + (Connector.spacing * (Connector.count - 1))\n",
    "        + Connector.padding * 2\n",
    "    )\n",
    "\n",
    "class SolderPad:\n",
    "    w = 3\n",
    "    h = 1\n",
    "    x_spacing = 10\n",
    "    y_spacing = 1\n",
    "    right_start_x = x_spacing / 2 + w / 2\n",
    "    left_start_x = -right_start_x\n"
   ],
   "metadata": {
    "collapsed": false,
    "is_executing": true,
    "ExecuteTime": {
     "end_time": "2024-09-13T01:19:27.914409Z",
     "start_time": "2024-09-13T01:19:27.909741Z"
    }
   },
   "id": "631c7d404ae0abd4",
   "outputs": [],
   "execution_count": 2
  },
  {
   "cell_type": "code",
   "source": [
    "def get_drawing():\n",
    "    width = 16\n",
    "    height = 30\n",
    "    d = draw.Drawing(width, height, origin=(-width,0))\n",
    "    d.svg_args['width'] = f'{width}mm'\n",
    "    d.svg_args['height'] = f'{height}mm'\n",
    "    d.svg_args['viewBox'] = f'0 0 {width} {height}'\n",
    "\n",
    "    d.set_pixel_scale(96 / 25.4)\n",
    "\n",
    "    return d"
   ],
   "metadata": {
    "collapsed": false,
    "is_executing": true,
    "ExecuteTime": {
     "end_time": "2024-09-13T01:19:27.920057Z",
     "start_time": "2024-09-13T01:19:27.916532Z"
    }
   },
   "id": "2e95e4dbaa5fcf04",
   "outputs": [],
   "execution_count": 3
  },
  {
   "cell_type": "code",
   "source": [
    "def get_layers():    \n",
    "    edge_layer = draw.Group(\n",
    "        id=\"Edge.Cuts\", inkscape__groupmode=\"layer\", inkscape__label=\"Edge.Cuts\"\n",
    "    )\n",
    "    \n",
    "    # Objects on the silkscreen layer get traced over as copper pads in KiCad\n",
    "    back_silkscreen = draw.Group(\n",
    "        id=\"B.SilkS\", inkscape__groupmode=\"layer\", inkscape__label=\"B.SilkS\"\n",
    "    )\n",
    "    \n",
    "    return edge_layer, back_silkscreen\n",
    "\n",
    "\n",
    "def edge(solder_pad_height, solder_pad_width):\n",
    "    p = draw.Path(fill=\"none\", stroke_width=0.1, stroke=\"black\")\n",
    "    p.M(0, 0)\n",
    "    p.v(solder_pad_height)\n",
    "    p.h((solder_pad_width - Cable.width)/2)\n",
    "    p.v(Cable.length)\n",
    "    p.h(Cable.width)\n",
    "    p.v(-Cable.length)\n",
    "    p.h((solder_pad_width - Cable.width)/2)\n",
    "    p.v(-solder_pad_height)\n",
    "    p.Z()\n",
    "    \n",
    "    return p"
   ],
   "metadata": {
    "collapsed": false,
    "is_executing": true,
    "ExecuteTime": {
     "end_time": "2024-09-13T01:19:27.926164Z",
     "start_time": "2024-09-13T01:19:27.921863Z"
    }
   },
   "id": "5edc02c25a08140e",
   "outputs": [],
   "execution_count": 4
  },
  {
   "cell_type": "code",
   "source": [
    "def solder_pads(solder_pad_count, solder_pad_height, solder_pad_width):\n",
    "    pads = draw.Group()\n",
    "    params = {'width': SolderPad.w , 'height': SolderPad.h, 'fill': 'black', 'stroke_width': 0}\n",
    "\n",
    "    for i in range(int(solder_pad_count/2)):\n",
    "        pads.append(\n",
    "            draw.Rectangle(\n",
    "                x=SolderPad.x_spacing / 2,\n",
    "                y=-(SolderPad.h +  (SolderPad.y_spacing + SolderPad.h) * i),\n",
    "                **params,\n",
    "            )\n",
    "        )\n",
    "\n",
    "    for i in range(int(solder_pad_count/2)):\n",
    "        pads.append(\n",
    "            draw.Rectangle(\n",
    "                x=-SolderPad. x_spacing / 2 - SolderPad.w ,\n",
    "                y=-(SolderPad.h + (SolderPad.y_spacing + SolderPad.h) * i),\n",
    "                **params,\n",
    "            )\n",
    "        )\n",
    "    \n",
    "    pads.args['transform'] = f'translate({solder_pad_width/2}, {solder_pad_height})'\n",
    "    return pads"
   ],
   "metadata": {
    "collapsed": false,
    "is_executing": true,
    "ExecuteTime": {
     "end_time": "2024-09-13T01:19:27.932704Z",
     "start_time": "2024-09-13T01:19:27.927617Z"
    }
   },
   "id": "6e9658cf90edec19",
   "outputs": [],
   "execution_count": 5
  },
  {
   "cell_type": "code",
   "source": [
    "def connection_pads(solder_pad_height, solder_pad_width):\n",
    "    g = draw.Group()\n",
    "    for i in range(Connector.count):\n",
    "        r = draw.Rectangle(\n",
    "            Connector.padding + (solder_pad_width - Cable.width)/2 + (Connector.pad_width + Connector.spacing)*i,\n",
    "            solder_pad_height + Cable.length - Connector.pad_height,\n",
    "            Connector.pad_width,\n",
    "            Connector.pad_height\n",
    "        )\n",
    "        g.append(r)\n",
    "    \n",
    "    return g"
   ],
   "metadata": {
    "collapsed": false,
    "is_executing": true,
    "ExecuteTime": {
     "end_time": "2024-09-13T01:19:27.939796Z",
     "start_time": "2024-09-13T01:19:27.936003Z"
    }
   },
   "id": "911bcedf324a4bd7",
   "outputs": [],
   "execution_count": 6
  },
  {
   "metadata": {
    "ExecuteTime": {
     "end_time": "2024-09-13T01:19:27.945098Z",
     "start_time": "2024-09-13T01:19:27.941110Z"
    }
   },
   "cell_type": "code",
   "source": [
    "def cable():\n",
    "    drawing = get_drawing()\n",
    "    edge_layer, back_silkscreen = get_layers()\n",
    "        \n",
    "    solder_pad_count = Connector.count\n",
    "    solder_pad_height = (SolderPad.h * Connector.count/2) + SolderPad.h * (Connector.count/2 - 1)\n",
    "    solder_pad_width = SolderPad.x_spacing + SolderPad.w * 2\n",
    "\n",
    "    edge_layer.append(edge(solder_pad_height, solder_pad_width))\n",
    "    drawing.append(edge_layer)\n",
    "    \n",
    "    back_silkscreen.append(connection_pads(solder_pad_height, solder_pad_width))\n",
    "    back_silkscreen.append(solder_pads(solder_pad_count, solder_pad_height, solder_pad_width))\n",
    "    drawing.append(back_silkscreen)\n",
    "    \n",
    "    return drawing"
   ],
   "id": "4f0e1f9b03dae3b",
   "outputs": [],
   "execution_count": 7
  },
  {
   "metadata": {
    "ExecuteTime": {
     "end_time": "2024-09-13T01:19:27.950384Z",
     "start_time": "2024-09-13T01:19:27.946198Z"
    }
   },
   "cell_type": "code",
   "source": "cable().save_svg(f'../outputs/cable_sunshine.svg')",
   "id": "304852db83f0549a",
   "outputs": [],
   "execution_count": 8
  }
 ],
 "metadata": {
  "kernelspec": {
   "display_name": "Python 3",
   "language": "python",
   "name": "python3"
  },
  "language_info": {
   "codemirror_mode": {
    "name": "ipython",
    "version": 2
   },
   "file_extension": ".py",
   "mimetype": "text/x-python",
   "name": "python",
   "nbconvert_exporter": "python",
   "pygments_lexer": "ipython2",
   "version": "2.7.6"
  }
 },
 "nbformat": 4,
 "nbformat_minor": 5
}
